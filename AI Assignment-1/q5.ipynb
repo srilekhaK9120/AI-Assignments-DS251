{
  "nbformat": 4,
  "nbformat_minor": 0,
  "metadata": {
    "colab": {
      "name": "q5_ai.ipynb",
      "provenance": [],
      "collapsed_sections": []
    },
    "kernelspec": {
      "name": "python3",
      "display_name": "Python 3"
    },
    "language_info": {
      "name": "python"
    }
  },
  "cells": [
    {
      "cell_type": "code",
      "execution_count": null,
      "metadata": {
        "id": "VskKEqZn3BWd"
      },
      "outputs": [],
      "source": [
        "# importing relevant libraries\n",
        "import numpy as np\n",
        "import random as rd\n",
        "from random import randint\n",
        "import matplotlib.pyplot as plt\n"
      ]
    },
    {
      "cell_type": "code",
      "source": [
        "# defining fitness function for the genetic algorithm\n",
        "def cal_fitness(population):\n",
        "\n",
        "    fitness = np.empty(population.shape[0])\n",
        "\n",
        "    # calculating fitness\n",
        "    for i in range(population.shape[0]):\n",
        "\n",
        "        # total penaly of this population\n",
        "        penalty_population= np.logical_not(population[i]).astype(int)\n",
        "        \n",
        "        # total value of this population\n",
        "        total_value = np.sum(population[i] * value) + np.sum(penalty_population * loss)\n",
        "\n",
        "        # total weight of this population\n",
        "        total_weight = np.sum(population[i] * weight)\n",
        "\n",
        "        # if total weight_exceeds knapsack_size, then induce penalty as the bag will be empty\n",
        "        if total_weight <= knapsack_threshold:\n",
        "            fitness[i] = total_value\n",
        "        else :\n",
        "            fitness[i] = np.sum(loss)\n",
        "       \n",
        "    return fitness.astype(int) \n"
      ],
      "metadata": {
        "id": "njrr-UWg72in"
      },
      "execution_count": null,
      "outputs": []
    },
    {
      "cell_type": "code",
      "source": [
        "# get new generation of off springs\n",
        "def selection(population):\n",
        "\n",
        "    fitness = cal_fitness(population)\n",
        "    normalisedFitness = []\n",
        "\n",
        "    # calculate normalised fitness\n",
        "    for a in fitness:\n",
        "      normalisedFitness.append(1/(1 + np.sum(value) - a))\n",
        "      normalisedFitness[-1] = pow(normalisedFitness[-1], 3)\n",
        "    \n",
        "    total_sum = np.sum(normalisedFitness)\n",
        "\n",
        "    # calculating probability distribution based on normalised fitness\n",
        "    probability = []\n",
        "    for a in normalisedFitness:\n",
        "      probability.append(a/total_sum)\n",
        "    \n",
        "    # calculating cummulative probability\n",
        "    cummulative_probability = []\n",
        "    prev = 0\n",
        "    for a in probability:\n",
        "      cummulative_probability.append(prev + a)\n",
        "      prev += a\n",
        "    \n",
        "    # find next generation using roulette wheel\n",
        "    newParents = []\n",
        "\n",
        "    for _ in range(population.shape[0]):\n",
        "      random = np.random.random()\n",
        "      index = 0\n",
        "\n",
        "      for a in cummulative_probability:\n",
        "        if random > a:\n",
        "          index += 1\n",
        "      \n",
        "      newParents.append(population[index])\n",
        "\n",
        "    return np.array(newParents)"
      ],
      "metadata": {
        "id": "U81UMBHJ-KGi"
      },
      "execution_count": null,
      "outputs": []
    },
    {
      "cell_type": "code",
      "source": [
        "# cross over in the population\n",
        "def crossover(population, threshold):\n",
        "  size = population.shape[0]\n",
        "  participants = []\n",
        "\n",
        "  # find who will be participating in the crossover\n",
        "  for i in range(size):\n",
        "    if np.random.random() <= threshold:\n",
        "      participants.append(i)\n",
        "\n",
        "  newPopulation = population.copy()\n",
        "\n",
        "  for i in range(len(participants)):\n",
        "\n",
        "    # choosing two parents to cross over\n",
        "    partner1 = participants[i]\n",
        "    partner2 = participants[(i+1)%len(participants)]\n",
        "\n",
        "    # crossing over from the randomly generated place\n",
        "    pos = np.random.randint(population.shape[1] - 1)\n",
        "    temp = population[partner1][0:pos + 1].tolist() + population[partner2][pos + 1:].tolist() \n",
        "    newPopulation[partner1] = np.array(temp)\n",
        "  \n",
        "  return newPopulation"
      ],
      "metadata": {
        "id": "pI735msw-Nd2"
      },
      "execution_count": null,
      "outputs": []
    },
    {
      "cell_type": "code",
      "source": [
        "# function to add mutation in the offspring\n",
        "def mutation(population, rate):\n",
        "\n",
        "  # determining the amount of mutation\n",
        "  total_gene = population.shape[0] * population.shape[1]\n",
        "  total_mutations = int(total_gene * rate)\n",
        "\n",
        "  # find all the indices who will be mutated\n",
        "  mutation_indices = np.random.randint(total_gene, size = total_mutations )\n",
        "  mutation_indices = mutation_indices.tolist()\n",
        "  mutation_indices.sort()\n",
        "  \n",
        "  # mutate all the genes are in the mutation indices\n",
        "  cnt = 0\n",
        "  for i in range(len(population)):\n",
        "    for j in range(len(population[i])):\n",
        "      if len(mutation_indices) and cnt == mutation_indices[0]:\n",
        "        population[i][j] = (population[i][j] + 1) % 2\n",
        "        mutation_indices.pop(0) \n",
        "      cnt += 1\n",
        "  \n",
        "  return population"
      ],
      "metadata": {
        "id": "IsoUunhn-Q3x"
      },
      "execution_count": null,
      "outputs": []
    },
    {
      "cell_type": "code",
      "source": [
        "# optimizing the initial population\n",
        "def optimize(initial_population, iterations = 100, crossover_threshold = .5, mutation_rate = .1):\n",
        "  population = initial_population\n",
        "\n",
        "  # storing best chromosome\n",
        "  history = []\n",
        "  best_gene_score = -1\n",
        "  best_gene = []\n",
        "\n",
        "  # creating new generations\n",
        "  for _ in range(iterations):\n",
        "    population = selection(population)\n",
        "    fitness = cal_fitness(population)  \n",
        "\n",
        "    # storing history and storing best chromosome\n",
        "    history.append(fitness)\n",
        "    temp = max(fitness)\n",
        "    if temp > best_gene_score:\n",
        "      best_gene = population[fitness.tolist().index(temp)]\n",
        "      best_gene_score = temp\n",
        "    \n",
        "    population = crossover(population, crossover_threshold)\n",
        "    population = mutation(population, mutation_rate)\n",
        "\n",
        "\n",
        "  return history, best_gene\n"
      ],
      "metadata": {
        "id": "_C-MPMCv4Dv5"
      },
      "execution_count": null,
      "outputs": []
    },
    {
      "cell_type": "code",
      "source": [
        "def print_best_gene_details(best_gene):\n",
        "  print('\\nSelected items that will maximize the knapsack without breaking it:\\n')\n",
        "  for i in range(len(best_gene)):\n",
        "    if best_gene[i] != 0:\n",
        "      print('{}: {} \\n'.format(i+1, item_name[i]))"
      ],
      "metadata": {
        "id": "kO8mbHZF1Myt"
      },
      "execution_count": null,
      "outputs": []
    },
    {
      "cell_type": "code",
      "source": [
        "# plotting graph of the entire generation history\n",
        "def plot_graph(history): \n",
        "  fnm = [np.mean(a) for a in np.array(history) ]\n",
        "  fnmax = [np.max(a) for a  in np.array(history)]\n",
        "\n",
        "  plt.plot(list(range(100)), fnm, label=\"mean fitness\")\n",
        "  plt.plot(list(range(100)), fnmax, label=\"max fitness\")\n",
        "  plt.legend()\n",
        "  plt.title('Fitness through the generations')\n",
        "  plt.xlabel('Generations')\n",
        "  plt.ylabel('Fitness')\n",
        "  plt.show()\n"
      ],
      "metadata": {
        "id": "RLIVDpfMCD8-"
      },
      "execution_count": null,
      "outputs": []
    },
    {
      "cell_type": "markdown",
      "source": [
        "## Taking Inputs"
      ],
      "metadata": {
        "id": "bsVEySEu28CO"
      }
    },
    {
      "cell_type": "code",
      "source": [
        "# initializing input storages\n",
        "choice  = int(input(\"Select 0 for default list or 1 for custom list \"))\n",
        "item_name = []\n",
        "weight = []\n",
        "value = []\n",
        "loss = []\n",
        "knapsack_threshold = 40 \n",
        "\n",
        "# taking inputs\n",
        "if (choice):\n",
        "  n = int(input(\"Enter number of items: \"))\n",
        "  knapsack_threshold = int(input(\"Enter knapsack Threshold: \"))\n",
        "  for i in range(n):\n",
        "    item_name.append(input(\"Enter item name : \"))\n",
        "    weight.append(int(input(\"Enter weight : \")))\n",
        "    value.append(int(input(\"Enter survival value : \")))\n",
        "    loss.append(int(input(\"Enter penalty points : \")))    \n",
        "else :\n",
        "  item_name = [\"Sleeping Bag\", \"Rope\", \"Bottle\", \"Torch+Battery\", \"Glucose\", \"Pocket Knife\", \"Umbrella\" ]\n",
        "  weight = [30,10,5,15,5,10,20]\n",
        "  value = [20,10,20,25,30,15,10]\n",
        "  loss = [0,0,0, -20, 0, -10, 0]\n",
        "\n",
        "# converting into numpy array\n",
        "item_name = np.array(item_name)\n",
        "weight = np.array(weight)\n",
        "value = np.array(value)\n",
        "\n",
        "# displaying input\n",
        "print('\\nThe list is as follows:\\n')\n",
        "\n",
        "print('{0:25}\\t{1:6}\\t{2:6}\\t{3:6}\\n'.format(\"Item Name\" ,   \"Weight\",    \"Value\", \"Loss\"))\n",
        "\n",
        "for i in range(item_name.shape[0]):\n",
        "    print('{0:25}\\t{1:5}\\t{2:5}\\t{3:5}\\n'.format(item_name[i], weight[i], value[i], loss[i]))"
      ],
      "metadata": {
        "id": "GUvTWWvTChcn",
        "colab": {
          "base_uri": "https://localhost:8080/"
        },
        "outputId": "bab367e0-c5e2-4c2e-966d-71b4c131aeee"
      },
      "execution_count": null,
      "outputs": [
        {
          "output_type": "stream",
          "name": "stdout",
          "text": [
            "Select 0 for default list or 1 for custom list 0\n",
            "\n",
            "The list is as follows:\n",
            "\n",
            "Item Name                \tWeight\tValue \tLoss  \n",
            "\n",
            "Sleeping Bag             \t   30\t   20\t    0\n",
            "\n",
            "Rope                     \t   10\t   10\t    0\n",
            "\n",
            "Bottle                   \t    5\t   20\t    0\n",
            "\n",
            "Torch+Battery            \t   15\t   25\t  -20\n",
            "\n",
            "Glucose                  \t    5\t   30\t    0\n",
            "\n",
            "Pocket Knife             \t   10\t   15\t  -10\n",
            "\n",
            "Umbrella                 \t   20\t   10\t    0\n",
            "\n"
          ]
        }
      ]
    },
    {
      "cell_type": "code",
      "source": [
        "# initiazing starting population\n",
        "\n",
        "solutions_per_pop = 8 # number of genes\n",
        "pop_size = (solutions_per_pop, item_name.shape[0]) \n",
        "initial_population = np.random.randint(2, size = pop_size).astype(int) # randomly generating initial population\n",
        "\n",
        "print('Population size = {}'.format(pop_size))\n",
        "print('Initial population: \\n{}'.format(initial_population))"
      ],
      "metadata": {
        "colab": {
          "base_uri": "https://localhost:8080/"
        },
        "id": "IsPMZ6SY2sBc",
        "outputId": "ac98635e-e84b-470b-a4b5-c19b49bde045"
      },
      "execution_count": null,
      "outputs": [
        {
          "output_type": "stream",
          "name": "stdout",
          "text": [
            "Population size = (8, 7)\n",
            "Initial population: \n",
            "[[1 1 1 1 0 0 1]\n",
            " [1 1 1 0 0 1 0]\n",
            " [0 1 0 1 0 1 1]\n",
            " [1 1 0 0 0 0 0]\n",
            " [1 1 0 0 0 0 0]\n",
            " [0 0 1 1 1 0 1]\n",
            " [0 0 0 0 0 1 0]\n",
            " [1 1 0 1 1 0 1]]\n"
          ]
        }
      ]
    },
    {
      "cell_type": "code",
      "source": [
        "# running the genetic algorithm on initial_population\n",
        "# can play with it by changing parameters\n",
        "history, best_gene = optimize(initial_population, iterations = 100, crossover_threshold = .5, mutation_rate = .1)"
      ],
      "metadata": {
        "id": "VMGLBIVL3R1G"
      },
      "execution_count": null,
      "outputs": []
    },
    {
      "cell_type": "code",
      "source": [
        "# display results\n",
        "print_best_gene_details(best_gene)\n",
        "plot_graph(history)"
      ],
      "metadata": {
        "colab": {
          "base_uri": "https://localhost:8080/",
          "height": 486
        },
        "id": "RHhcpKSR9n_L",
        "outputId": "60bd4996-c2cd-4227-85da-51b38b999f73"
      },
      "execution_count": null,
      "outputs": [
        {
          "output_type": "stream",
          "name": "stdout",
          "text": [
            "\n",
            "Selected items that will maximize the knapsack without breaking it:\n",
            "\n",
            "3: Bottle \n",
            "\n",
            "4: Torch+Battery \n",
            "\n",
            "5: Glucose \n",
            "\n",
            "6: Pocket Knife \n",
            "\n"
          ]
        },
        {
          "output_type": "display_data",
          "data": {
            "image/png": "[encoded data removed]",
            "text/plain": [
              "<Figure size 432x288 with 1 Axes>"
            ]
          },
          "metadata": {
            "needs_background": "light"
          }
        }
      ]
    },
    {
      "cell_type": "markdown",
      "source": [
        "## Representing the chromosomes :\n",
        "Each chromosome is represented by an array of size equal to the number of items. The respective position is set to 1 or 0 as per there presence in the knapsack. The below code will show the representation of the chromosomes."
      ],
      "metadata": {
        "id": "q1bR0lkfz_F8"
      }
    },
    {
      "cell_type": "code",
      "source": [
        "example_chromosome = np.random.randint(2, size = (1,item_name.shape[0]))\n",
        "print(example_chromosome)"
      ],
      "metadata": {
        "colab": {
          "base_uri": "https://localhost:8080/"
        },
        "id": "gDbrnzVtIcD8",
        "outputId": "56834dd3-e73b-4c16-86b3-d6cd80c47001"
      },
      "execution_count": null,
      "outputs": [
        {
          "output_type": "stream",
          "name": "stdout",
          "text": [
            "[[1 1 1 1 0 1 0]]\n"
          ]
        }
      ]
    },
    {
      "cell_type": "markdown",
      "source": [
        "##Fitness function: \n",
        "Given the chromosome is valid i.e the sum of weights of all the items considered ( they are those indices with value stored 1 ) is less than the knapsack threshold, the fitness function  is equal to the sum of the value of considered items and the penalty points of those not considered. If the weight is more than the threshold, only the sum of the penalty points is returned."
      ],
      "metadata": {
        "id": "rBYKx2AF1P5x"
      }
    },
    {
      "cell_type": "code",
      "source": [
        "example_population_ = np.random.randint(2, size = pop_size)\n",
        "cal_fitness(example_population_)"
      ],
      "metadata": {
        "colab": {
          "base_uri": "https://localhost:8080/"
        },
        "id": "oH5bOVSN2oNN",
        "outputId": "f60a788b-6593-42e2-e676-26af680278f3"
      },
      "execution_count": null,
      "outputs": [
        {
          "output_type": "execute_result",
          "data": {
            "text/plain": [
              "array([ 20, -30,  20, -30,   0,  70, -30, -30])"
            ]
          },
          "metadata": {},
          "execution_count": 396
        }
      ]
    },
    {
      "cell_type": "markdown",
      "source": [
        "## Selection:\n",
        "First the population fitness is evaluated and then we intend on nomrmalising it. First the value of 1/(1+(maximum value that can be incurred) - fitness) is taken. ( If fitness is negative the denominator will become bigger, thus reducing the value of the fraction. Moreover, the fitness value cannot be more than the maximum obtainable value, thus preventing the fraction from being negative). All these values are added to find the total sum. Then based on this probability is calculated by dividing the normalised fitness by the sum obtained. After this the cumulative probabilty is calculated. N random numbers are generated (between 0 to 1) and compared to the the cumulative probabiltites of each chromosome. According to the range within which the random number falls the new population of chromosomes is selected."
      ],
      "metadata": {
        "id": "iCThXAoi-DzN"
      }
    },
    {
      "cell_type": "code",
      "source": [
        "print(example_population_, '\\n')\n",
        "print('offsprings after selection')\n",
        "selection(example_population_).tolist()"
      ],
      "metadata": {
        "colab": {
          "base_uri": "https://localhost:8080/"
        },
        "id": "vCKk8-VcAAdu",
        "outputId": "e68f10a3-8367-4000-b6aa-6b1169a4a444"
      },
      "execution_count": null,
      "outputs": [
        {
          "output_type": "stream",
          "name": "stdout",
          "text": [
            "[[0 0 1 0 1 0 0]\n",
            " [1 1 1 1 1 0 0]\n",
            " [0 1 0 0 1 0 1]\n",
            " [0 1 0 1 1 1 1]\n",
            " [0 1 1 0 0 0 0]\n",
            " [0 0 0 1 1 1 0]\n",
            " [1 0 0 1 0 1 0]\n",
            " [1 1 1 0 1 1 0]] \n",
            "\n",
            "offsprings after selection\n"
          ]
        },
        {
          "output_type": "execute_result",
          "data": {
            "text/plain": [
              "[[0, 1, 1, 0, 0, 0, 0],\n",
              " [0, 0, 0, 1, 1, 1, 0],\n",
              " [0, 0, 0, 1, 1, 1, 0],\n",
              " [0, 0, 0, 1, 1, 1, 0],\n",
              " [0, 0, 0, 1, 1, 1, 0],\n",
              " [0, 1, 1, 0, 0, 0, 0],\n",
              " [0, 0, 0, 1, 1, 1, 0],\n",
              " [1, 1, 1, 0, 1, 1, 0]]"
            ]
          },
          "metadata": {},
          "execution_count": 397
        }
      ]
    },
    {
      "cell_type": "markdown",
      "source": [
        "## Crossover:\n",
        "N random numbers are generated where N is the number of chromosomes in a generation. Each number is then compared with the threshold value of crossover. If the ith number is less than or equal to the threshold, the corresponding chromosome (ith chromosome) is selected as a participant in the process of crossover. The participating chromosome are then crossed over in a cyclic manner and position of crossover is decided by generating a random number which falls between its length."
      ],
      "metadata": {
        "id": "iFeb2v2m20bu"
      }
    },
    {
      "cell_type": "code",
      "source": [
        "print(example_population_, '\\n')\n",
        "print(\"After crossover : \")\n",
        "crossover(example_population_, 0.5).tolist()"
      ],
      "metadata": {
        "colab": {
          "base_uri": "https://localhost:8080/"
        },
        "id": "et1-YGMT4N0Q",
        "outputId": "b13dbad3-40d0-48e5-d065-e99d939d3629"
      },
      "execution_count": null,
      "outputs": [
        {
          "output_type": "stream",
          "name": "stdout",
          "text": [
            "[[0 0 1 0 1 0 0]\n",
            " [1 1 1 1 1 0 0]\n",
            " [0 1 0 0 1 0 1]\n",
            " [0 1 0 1 1 1 1]\n",
            " [0 1 1 0 0 0 0]\n",
            " [0 0 0 1 1 1 0]\n",
            " [1 0 0 1 0 1 0]\n",
            " [1 1 1 0 1 1 0]] \n",
            "\n",
            "After crossover : \n"
          ]
        },
        {
          "output_type": "execute_result",
          "data": {
            "text/plain": [
              "[[0, 0, 1, 0, 1, 0, 0],\n",
              " [1, 1, 1, 1, 1, 0, 1],\n",
              " [0, 1, 0, 0, 1, 0, 1],\n",
              " [0, 1, 0, 1, 1, 1, 0],\n",
              " [0, 1, 1, 0, 0, 0, 0],\n",
              " [0, 0, 0, 1, 1, 1, 0],\n",
              " [1, 0, 0, 1, 1, 1, 0],\n",
              " [1, 1, 1, 0, 1, 0, 0]]"
            ]
          },
          "metadata": {},
          "execution_count": 398
        }
      ]
    },
    {
      "cell_type": "markdown",
      "source": [
        "## Mutation:\n",
        "A certain mutation rate is taken and then multiplied to the total number of genes ( number of chromosomes * length of chromosomes). The floor of this product determines the number of genes that will be mutated (say X). Now X random numbers are generated within the range of total number of genes. The genes corresponding to these numbers are then selected and their values flipped ( 1 to 0 or vice versa). The resulting population has thus mutated. "
      ],
      "metadata": {
        "id": "Z_sJLFkw4kjF"
      }
    },
    {
      "cell_type": "code",
      "source": [
        "print(example_population_, '\\n')\n",
        "print(\"After mutation : \")\n",
        "mutation(example_population_, 0.1).tolist()"
      ],
      "metadata": {
        "colab": {
          "base_uri": "https://localhost:8080/"
        },
        "id": "17RKvq5O2xC4",
        "outputId": "771bc274-89c2-4086-fb0e-c1ff1b1df620"
      },
      "execution_count": null,
      "outputs": [
        {
          "output_type": "stream",
          "name": "stdout",
          "text": [
            "[[0 0 1 0 1 0 0]\n",
            " [1 1 1 1 1 0 0]\n",
            " [0 1 0 0 1 0 1]\n",
            " [0 1 0 1 1 1 1]\n",
            " [0 1 1 0 0 0 0]\n",
            " [0 0 0 1 1 1 0]\n",
            " [1 0 0 1 0 1 0]\n",
            " [1 1 1 0 1 1 0]] \n",
            "\n",
            "After mutation : \n"
          ]
        },
        {
          "output_type": "execute_result",
          "data": {
            "text/plain": [
              "[[0, 0, 1, 0, 1, 0, 0],\n",
              " [1, 1, 1, 1, 1, 0, 0],\n",
              " [0, 1, 0, 0, 1, 0, 1],\n",
              " [0, 0, 0, 1, 1, 1, 1],\n",
              " [0, 1, 1, 0, 1, 0, 0],\n",
              " [0, 0, 1, 1, 1, 1, 0],\n",
              " [1, 0, 0, 1, 0, 1, 0],\n",
              " [1, 0, 1, 1, 1, 1, 0]]"
            ]
          },
          "metadata": {},
          "execution_count": 399
        }
      ]
    }
  ]
}