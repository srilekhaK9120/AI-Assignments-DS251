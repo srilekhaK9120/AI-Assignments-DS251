{
  "nbformat": 4,
  "nbformat_minor": 0,
  "metadata": {
    "colab": {
      "name": "ai.ipynb",
      "provenance": []
    },
    "kernelspec": {
      "name": "python3",
      "display_name": "Python 3"
    },
    "language_info": {
      "name": "python"
    }
  },
  "cells": [
    {
      "cell_type": "code",
      "execution_count": null,
      "metadata": {
        "id": "8391riqRqNlo"
      },
      "outputs": [],
      "source": [
        "# importing relevant library\n",
        "import numpy as np"
      ]
    },
    {
      "cell_type": "code",
      "source": [
        "# creating maze\n",
        "maze = np.zeros((8, 8))\n",
        "\n",
        "# assigning 1 to places where the cell is blocked\n",
        "for i in range(5):\n",
        "  maze[3][2 + i] = 1\n",
        "\n",
        "maze[4][0] = 1\n",
        "maze[5][2] = 1\n",
        "maze[5][6] = 1\n",
        "\n",
        "print(\"Maze is:\\n\", maze)"
      ],
      "metadata": {
        "colab": {
          "base_uri": "https://localhost:8080/"
        },
        "id": "7yaDj4Ugu76w",
        "outputId": "db33c999-d18f-4548-afad-b903abcf771c"
      },
      "execution_count": null,
      "outputs": [
        {
          "output_type": "stream",
          "name": "stdout",
          "text": [
            "Maze is:\n",
            " [[0. 0. 0. 0. 0. 0. 0. 0.]\n",
            " [0. 0. 0. 0. 0. 0. 0. 0.]\n",
            " [0. 0. 0. 0. 0. 0. 0. 0.]\n",
            " [0. 0. 1. 1. 1. 1. 1. 0.]\n",
            " [1. 0. 0. 0. 0. 0. 0. 0.]\n",
            " [0. 0. 1. 0. 0. 0. 1. 0.]\n",
            " [0. 0. 0. 0. 0. 0. 0. 0.]\n",
            " [0. 0. 0. 0. 0. 0. 0. 0.]]\n"
          ]
        }
      ]
    },
    {
      "cell_type": "code",
      "source": [
        "# creating class for the node\n",
        "class Node:\n",
        "\n",
        "  def __init__(self, pos=(0, 0)):\n",
        "    self.pos = pos\n",
        "    self.parent = None\n",
        "    self.f = self.g = self.h = 0\n",
        "  \n",
        "  # function for comparing equality between two nodes\n",
        "  def __eq__(self, otherNode):\n",
        "    return self.pos == otherNode.pos\n"
      ],
      "metadata": {
        "id": "N7NabkF4vAed"
      },
      "execution_count": null,
      "outputs": []
    },
    {
      "cell_type": "code",
      "source": [
        "# defining heuristic function\n",
        "def manhattan_distance(a, b):\n",
        "  return abs(a[0] - b[0]) + abs(a[1] - b[1])"
      ],
      "metadata": {
        "id": "V-8Cl8N7DMp4"
      },
      "execution_count": null,
      "outputs": []
    },
    {
      "cell_type": "code",
      "source": [
        "# finding the node with minimum cost\n",
        "def find_min_node(openList):\n",
        "  currentIndex = 0\n",
        "  currentNode = openList[0]\n",
        "\n",
        "  for index, node in enumerate(openList):\n",
        "    if node.f < currentNode.f:\n",
        "      currentIndex = index\n",
        "      currentNode = node\n",
        "\n",
        "  return currentNode, currentIndex"
      ],
      "metadata": {
        "id": "jNBS5UmTHhGu"
      },
      "execution_count": null,
      "outputs": []
    },
    {
      "cell_type": "code",
      "source": [
        "# find all the valid child nodes of a given node\n",
        "def get_child_nodes(currentNode):\n",
        "  x, y = currentNode.pos\n",
        "\n",
        "  childNodes = []\n",
        "\n",
        "  if x - 1 >= 0 and maze[x-1][y] != 1:\n",
        "    childNodes.append(Node(pos = (x-1, y)))\n",
        "  \n",
        "  if y - 1 >= 0 and maze[x][y-1] != 1:\n",
        "    childNodes.append(Node(pos = (x, y-1)))\n",
        "  \n",
        "  if x + 1 < 8 and maze[x+1][y] != 1:\n",
        "    childNodes.append(Node(pos = (x+1, y)))\n",
        "  \n",
        "  if y + 1 < 8 and maze[x][y+1] != 1:\n",
        "    childNodes.append(Node(pos = (x, y+1)))\n",
        "  \n",
        "  return childNodes"
      ],
      "metadata": {
        "id": "XPJN7J-CKo7k"
      },
      "execution_count": null,
      "outputs": []
    },
    {
      "cell_type": "code",
      "source": [
        "# function for finding the shortest path\n",
        "def search_path(start, end, maze):\n",
        "\n",
        "  # creating Open and closed Lists\n",
        "  openList = []\n",
        "  closedList = []\n",
        "\n",
        "  # inserting the first node in the open list\n",
        "  openList.append(start)\n",
        "\n",
        "  # traversing the graph using A* algorithm\n",
        "  while len(openList):\n",
        "\n",
        "    # find the node with minimum cost\n",
        "    currentNode, index = find_min_node(openList)\n",
        "    openList.pop(index)\n",
        "\n",
        "    # add currentNode in closed list\n",
        "    closedList.append(currentNode)\n",
        "\n",
        "    # if the goal node is reached then break\n",
        "    if currentNode == end:\n",
        "      break\n",
        "    \n",
        "    # find all the children of current Node\n",
        "    children = get_child_nodes(currentNode)\n",
        "\n",
        "    # add the new child to the openList\n",
        "    for child in children:\n",
        "\n",
        "      if child in closedList:                             # if child already in closed list, do nothing\n",
        "        continue\n",
        "\n",
        "      if child in openList:                               # if child in openList then update cost\n",
        "        child.g = min(child.g, currentNode.g + 1)\n",
        "        child.h = manhattan_distance(child.pos, end.pos)\n",
        "        child.f = child.g + child.h\n",
        "        child.parent = currentNode\n",
        "        continue\n",
        "      \n",
        "      child.h = manhattan_distance(child.pos, end.pos)    # calculating f = g + h\n",
        "      child.f = child.g + child.h\n",
        "\n",
        "      child.parent = currentNode                          # adding parent to the child\n",
        "\n",
        "      openList.append(child)\n",
        "\n",
        "  return closedList                                       # return closed list for finding the path"
      ],
      "metadata": {
        "id": "tFmDftudq1cd"
      },
      "execution_count": null,
      "outputs": []
    },
    {
      "cell_type": "code",
      "source": [
        "# function to print path from source to goal node\n",
        "def print_path(start, closedList, maze, end):\n",
        "  newMaze = [['_' for _ in range(8)]]*8\n",
        "\n",
        "  path = []\n",
        "\n",
        "  # start with the goal node and backtrack to the starting node by visiting\n",
        "  # parents of each backtracked node\n",
        "  currentNode = closedList[-1]\n",
        "  \n",
        "  while currentNode != start:\n",
        "    path.append(currentNode.pos)\n",
        "    currentNode = currentNode.parent\n",
        "  path.append(currentNode.pos)\n",
        "\n",
        "  print('lenght of the path:', len(path) - 1, '\\n')\n",
        "\n",
        "  # creating the result maze\n",
        "  for i in range(8):\n",
        "    for j in range(8):\n",
        "      if (i, j) in path:        # assign 'p' if the cell is part of the path\n",
        "        newMaze[i][j] = 'p'\n",
        "      elif maze[i][j] == 1:\n",
        "        newMaze[i][j] = '#'     # assign '#' if the cell is blocked\n",
        "      else:\n",
        "        newMaze[i][j] = '_'     # assign '_' if cell is empty and not travelled\n",
        "\n",
        "      if i == start.pos[0] and j == start.pos[1]:   # source cell\n",
        "        newMaze[i][j] = 'S'\n",
        "      elif i == end.pos[0] and j == end.pos[1]:     # destination cell\n",
        "        newMaze[i][j] = 'G'\n",
        "\n",
        "      print(newMaze[i][j], end='  ')   \n",
        "    print()"
      ],
      "metadata": {
        "id": "UmAfaQOlrwMW"
      },
      "execution_count": null,
      "outputs": []
    },
    {
      "cell_type": "code",
      "source": [
        "# take input for the start node\n",
        "a = int(input('x coordinate of starting position: '))\n",
        "b = int(input('y coordinate of the starting postion: '))\n",
        "\n",
        "while maze[b][a]:\n",
        "  print('This coordinate is blocked. Please try other coordinates')\n",
        "  a = int(input('x coordinate of starting position: '))\n",
        "  b = int(input('y coordinate of the starting postion: '))\n",
        "\n",
        "# taking input for the goal node\n",
        "c = int(input('x coordinate of goal position: '))\n",
        "d = int(input('y coordinate of the goal postion: ')) \n",
        "\n",
        "while maze[d][c]:\n",
        "  print('This coordinate is blocked. Please try other coordinates')\n",
        "  c = int(input('x coordinate of goal position: '))\n",
        "  d = int(input('y coordinate of the goal postion: ')) \n",
        "\n",
        "# initialize start and end\n",
        "start = Node(pos = (b, a))\n",
        "end = Node(pos = (d, c))\n",
        "\n",
        "print(\"\\nstarting position:\", start.pos)\n",
        "print('goal postion:', end.pos)\n",
        "\n",
        "# find the list of all visited nodes\n",
        "closedList = search_path(start, end, maze)"
      ],
      "metadata": {
        "colab": {
          "base_uri": "https://localhost:8080/"
        },
        "id": "rWL-FzU4DkJy",
        "outputId": "1895909d-c2ab-4d4f-88d8-0a54084b4527"
      },
      "execution_count": null,
      "outputs": [
        {
          "output_type": "stream",
          "name": "stdout",
          "text": [
            "x coordinate of starting position: 2\n",
            "y coordinate of the starting postion: 3\n",
            "This coordinate is blocked. Please try other coordinates\n",
            "x coordinate of starting position: 0\n",
            "y coordinate of the starting postion: 0\n",
            "x coordinate of goal position: 2\n",
            "y coordinate of the goal postion: 3\n",
            "This coordinate is blocked. Please try other coordinates\n",
            "x coordinate of goal position: 7\n",
            "y coordinate of the goal postion: 7\n",
            "\n",
            "starting position: (0, 0)\n",
            "goal postion: (7, 7)\n"
          ]
        }
      ]
    },
    {
      "cell_type": "code",
      "source": [
        "# printing results\n",
        "print('A total of', len(closedList), 'nodes were explored for getting the correct path\\n')\n",
        "print_path(start, closedList, maze, end)"
      ],
      "metadata": {
        "colab": {
          "base_uri": "https://localhost:8080/"
        },
        "id": "t7xBiPORJ8YU",
        "outputId": "201ed51b-d6d7-4330-b483-e421b0a5cce6"
      },
      "execution_count": null,
      "outputs": [
        {
          "output_type": "stream",
          "name": "stdout",
          "text": [
            "A total of 15 nodes were explored for getting the correct path\n",
            "\n",
            "lenght of the path: 14 \n",
            "\n",
            "S  _  _  _  _  _  _  _  \n",
            "p  _  _  _  _  _  _  _  \n",
            "p  _  _  _  _  _  _  _  \n",
            "p  p  #  #  #  #  #  _  \n",
            "#  p  _  _  _  _  _  _  \n",
            "_  p  #  _  _  _  #  _  \n",
            "_  p  _  _  _  _  _  _  \n",
            "_  p  p  p  p  p  p  G  \n"
          ]
        }
      ]
    }
  ]
}